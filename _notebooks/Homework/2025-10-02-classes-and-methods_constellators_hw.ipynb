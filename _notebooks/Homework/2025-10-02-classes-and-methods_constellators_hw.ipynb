{
 "cells": [
  {
   "cell_type": "markdown",
   "id": "3ddc81e9",
   "metadata": {},
   "source": [
    "---\n",
    "layout: post\n",
    "toc: True\n",
    "breadcrumb: True\n",
    "title: CSSE Classes and Methods HW\n",
    "description: These are t-]=[\n",
    "'\n",
    "he homework problems and popcorn hacks.\n",
    "permalink: /csse/fall_2025/javascript/classes-and-methods/homework\n",
    "author: Adya S, Niharika B, Salma Z, Anika S, Sophie H\n",
    "---"
   ]
  },
  {
   "cell_type": "markdown",
   "id": "04a627a9",
   "metadata": {},
   "source": [
    "## **Classes and Methods**"
   ]
  },
  {
   "cell_type": "markdown",
   "id": "a88704ec",
   "metadata": {},
   "source": [
    "### <u>Popcorn Hack 1 - Dice Roller</u>\n",
    "\n",
    "\n",
    "Instructions:\n",
    "Finish the code in the cell below (fill in underlines and add lines of code) so it works as described:\n",
    "\n",
    "- Create a class called Dice that:\n",
    "    - Has a property for the number of sides.\n",
    "    - Has a method roll() that returns a random number between 1 and the number of sides.\n",
    "\n",
    "\n",
    "At the bottom, test your game by making a DiceGame object and calling roll() a few times.\n",
    "\n",
    "The code is currently NOT functional. When you have completed this popcorn hack, the code should work. Have fun!"
   ]
  },
  {
   "cell_type": "code",
   "execution_count": null,
   "id": "83cfb441",
   "metadata": {
    "vscode": {
     "languageId": "javascript"
    }
   },
   "outputs": [
    {
     "data": {
      "application/javascript": "\nclass Dice { // What should the name of the class be?\n  constructor(sides) { // Constructor to initialize the number of sides\n    this.sides = sides; // Number of sides on the dice\n  }\n\n  roll() { // What should the name of the method be?\n    return Math.floor(Math.random() * this.sides) + 1; // Rolls the dice and returns a number between 1 and the number of sides\n  }\n}\n\n// Test the Dice class:\n// INSTANTIATE A NEW DICE OBJECT WITH A NUMBER OF SIDES\nconst myDice = new Dice(6);\n\n// CALL THE ROLL METHOD A FEW TIMES AND PRINT THE RESULTS\nconsole.log(\"Rolling the dice 3 times:\");\nconsole.log(myDice.roll());\nconsole.log(myDice.roll());\nconsole.log(myDice.roll());\n",
      "text/plain": [
       "<IPython.core.display.Javascript object>"
      ]
     },
     "metadata": {},
     "output_type": "display_data"
    }
   ],
   "source": [
    "%%javascript\n",
    "\n",
    "class Dice { // What should the name of the class be?\n",
    "  constructor(sides) { // Constructor to initialize the number of sides\n",
    "    this.sides = sides; // Number of sides on the dice\n",
    "  }\n",
    "\n",
    "  roll() { // What should the name of the method be?\n",
    "    return Math.floor(Math.random() * this.sides) + 1; // Rolls the dice and returns a number between 1 and the number of sides\n",
    "  }\n",
    "}\n",
    "\n",
    "// Test the Dice class:\n",
    "// INSTANTIATE A NEW DICE OBJECT WITH A NUMBER OF SIDES\n",
    "const myDice = new Dice(6);\n",
    "\n",
    "// CALL THE ROLL METHOD A FEW TIMES AND PRINT THE RESULTS\n",
    "console.log(\"Rolling the dice 3 times:\");\n",
    "console.log(myDice.roll());\n",
    "console.log(myDice.roll());\n",
    "console.log(myDice.roll());"
   ]
  },
  {
   "cell_type": "markdown",
   "id": "eb525919",
   "metadata": {},
   "source": [
    "### <u>Popcorn Hack 2 - Pet Simulator</u>\n",
    "\n",
    "\n",
    "This hack is a bit more complicated than the first. Points will be awarded based on effort and completion.\n",
    "\n",
    "\n",
    "Analyze the block of code below. Then, complete the following instructions:\n",
    "\n",
    "\n",
    "1) Create a simple Pet class by filling in the _________.\n",
    "\n",
    "2) Add at least 2 properties (like hunger, energy, or happiness). EX: Stats decrease over time.\n",
    "\n",
    "3) Add at least two functioning methods (such as feed, play, or sleep) EX: Buttons increase stats.\n",
    "\n",
    "4) Give your pet a name and print their current properties.\n",
    "\n",
    "5) Bonus: Add a \"status\" method to print all your pet's stats.\n",
    "\n",
    "\n",
    "The code is currently NOT functional. When you have completed this popcorn hack, the code should work. Have fun!\n",
    "\n"
   ]
  },
  {
   "cell_type": "code",
   "execution_count": 1,
   "id": "740b316c",
   "metadata": {
    "vscode": {
     "languageId": "javascript"
    }
   },
   "outputs": [
    {
     "data": {
      "application/javascript": "\nclass Pet {\n  constructor(name) {\n    this.name = name;\n    this.hunger = 5;   // you can change these values\n    this.energy = 5;\n    this.happiness = 5;\n  }\n\n  feed() {\n    this.hunger = Math.max(0, this.hunger - 2);\n    this.energy = Math.min(10, this.energy + 1);\n    this.happiness = Math.min(10, this.happiness + 1);\n    console.log(`${this.name} has been fed! Hunger: ${this.hunger}, Energy: ${this.energy}, Happiness: ${this.happiness}`);\n  }\n\n  play() {\n    this.energy = Math.max(0, this.energy - 2);\n    this.hunger = Math.min(10, this.hunger + 1);\n    this.happiness = Math.min(10, this.happiness + 2);\n    console.log(`${this.name} played! Hunger: ${this.hunger}, Energy: ${this.energy}, Happiness: ${this.happiness}`);\n  }\n\n  status() {\n    return `${this.name} - Hunger: ${this.hunger}, Energy: ${this.energy}, Happiness: ${this.happiness}`;\n  }\n}\n\nconst myPet = new Pet(\"Fluffy\"); // give your pet a name\nconsole.log(myPet); // print the properties of your pet to console\noutput.innerText = myPet.status(); // print the properties of your pet\n\n// Test your methods below:\nmyPet.feed();\nmyPet.play();\n",
      "text/plain": [
       "<IPython.core.display.Javascript object>"
      ]
     },
     "metadata": {},
     "output_type": "display_data"
    }
   ],
   "source": [
    "%%javascript\n",
    "\n",
    "class Pet {\n",
    "  constructor(name) {\n",
    "    this.name = name;\n",
    "    this.hunger = 5;   // you can change these values\n",
    "    this.energy = 5;\n",
    "    this.happiness = 5;\n",
    "  }\n",
    "\n",
    "  feed() {\n",
    "    this.hunger = Math.max(0, this.hunger - 2);\n",
    "    this.energy = Math.min(10, this.energy + 1);\n",
    "    this.happiness = Math.min(10, this.happiness + 1);\n",
    "    console.log(`${this.name} has been fed! Hunger: ${this.hunger}, Energy: ${this.energy}, Happiness: ${this.happiness}`);\n",
    "  }\n",
    "\n",
    "  play() {\n",
    "    this.energy = Math.max(0, this.energy - 2);\n",
    "    this.hunger = Math.min(10, this.hunger + 1);\n",
    "    this.happiness = Math.min(10, this.happiness + 2);\n",
    "    console.log(`${this.name} played! Hunger: ${this.hunger}, Energy: ${this.energy}, Happiness: ${this.happiness}`);\n",
    "  }\n",
    "\n",
    "  status() {\n",
    "    return `${this.name} - Hunger: ${this.hunger}, Energy: ${this.energy}, Happiness: ${this.happiness}`;\n",
    "  }\n",
    "}\n",
    "\n",
    "const myPet = new Pet(\"Fluffy\"); // give your pet a name\n",
    "console.log(myPet); // print the properties of your pet to console\n",
    "output.innerText = myPet.status(); // print the properties of your pet\n",
    "\n",
    "// Test your methods below:\n",
    "myPet.feed();\n",
    "myPet.play();"
   ]
  },
  {
   "cell_type": "markdown",
   "id": "e7ae67bd",
   "metadata": {},
   "source": [
    "### <u>Homework</u>\n",
    "\n",
    "Complete the following questions in the next code block.\n",
    "\n",
    "1) Create a class Person with properties 'name' and 'age'. Print their properties.\n",
    "\n",
    "2) Add a method greet() to your Person class that prints a greeting using the person's name.\n",
    "\n",
    "3) Create a class Book with properties 'title', 'author', and 'pages'. Instantiate a book and print its properties.\n",
    "\n",
    "4) Add a method read(pages) to your Book class that increments a pagesRead property and prints a message.\n",
    "\n",
    "5) Add a method isLongBook() that returns true if pages > 300, otherwise false. Print the result for your book.\n",
    "\n",
    "6) Create a class Car with properties 'make', 'model', and 'fuel'. Add methods drive(distance) and refuel(amount). Print messages in each method.\n",
    "\n",
    "7) Add a static method info() to your Car class that prints 'Cars are vehicles.'\n",
    "\n",
    "8) Create a class ElectricCar that extends Car. Add a property 'battery' and a method charge(amount) that increases battery. Print battery level after charging.\n",
    "\n",
    "10) Create a routine that combines your objects: drive a Car, charge an ElectricCar, read pages from a Book, and call greet() on Person. Print outputs for each action.\n",
    "\n",
    "11) **Extra Credit:** Submit the original OOP Breakout Game Code (found on [OpenCS](https://github.com/Open-Coding-Society/pages/blob/main/hacks/breakout/breakout.md?plain=1)) after making the following edits:\n",
    "- Add another feature to the game: Add a method so that the ball must collide with some bricks twice for a brick to break completely.\n",
    "- Edit a method in the ball class to increase/decrease the speed of the ball: Please add a COMMENT on the game code that specifies which line you edited."
   ]
  },
  {
   "cell_type": "code",
   "execution_count": 4,
   "id": "52d29f28",
   "metadata": {
    "vscode": {
     "languageId": "javascript"
    }
   },
   "outputs": [
    {
     "data": {
      "application/javascript": "// 1) Person class\nclass Person {\n  constructor(name, age) {\n    this.name = name;\n    this.age = age;\n  }\n  greet() {\n    console.log(`Hello, my name is ${this.name}!`);\n  }\n}\nconst person1 = new Person(\"Tasha\", 14);\nconsole.log(person1);\nperson1.greet();\n\n// 2) Book class\nclass Book {\n  constructor(title, author, pages) {\n    this.title = title;\n    this.author = author;\n    this.pages = pages;\n    this.pagesRead = 0;\n  }\n  read(pages) {\n    this.pagesRead += pages;\n    console.log(`You have read ${this.pagesRead} pages of '${this.title}'.`);\n  }\n  isLongBook() {\n    return this.pages > 300;\n  }\n}\nconst book1 = new Book(\"The Great Gatsby\", \"F. Scott Fitzgerald\", 218);\nconsole.log(book1);\nbook1.read(50);\nconsole.log(\"Is long book?\", book1.isLongBook());\n\n// 3) Car class\nclass Car {\n  constructor(make, model, fuel) {\n    this.make = make;\n    this.model = model;\n    this.fuel = fuel;\n  }\n  drive(distance) {\n    this.fuel -= distance * 0.05;\n    console.log(`${this.make} ${this.model} drove ${distance} miles. Fuel left: ${this.fuel}`);\n  }\n  refuel(amount) {\n    this.fuel += amount;\n    console.log(`${this.make} ${this.model} refueled. Fuel now: ${this.fuel}`);\n  }\n  static info() {\n    console.log(\"Cars are vehicles.\");\n  }\n}\nCar.info();\nconst car1 = new Car(\"Toyota\", \"Camry\", 10);\ncar1.drive(50);\ncar1.refuel(5);\n\n// 4) ElectricCar class\nclass ElectricCar extends Car {\n  constructor(make, model, fuel, battery) {\n    super(make, model, fuel);\n    this.battery = battery;\n  }\n  charge(amount) {\n    this.battery += amount;\n    console.log(`${this.make} ${this.model} charged. Battery now: ${this.battery}`);\n  }\n}\nconst tesla = new ElectricCar(\"Tesla\", \"Model 3\", 5, 50);\ntesla.charge(20);\n\n// 5) Routine\nconsole.log(\"--- Routine ---\");\ncar1.drive(20);\ntesla.charge(10);\nbook1.read(30);\nperson1.greet();\n",
      "text/plain": [
       "<IPython.core.display.Javascript object>"
      ]
     },
     "metadata": {},
     "output_type": "display_data"
    }
   ],
   "source": [
    "%%javascript\n",
    "// 1) Person class\n",
    "class Person {\n",
    "  constructor(name, age) {\n",
    "    this.name = name;\n",
    "    this.age = age;\n",
    "  }\n",
    "  greet() {\n",
    "    console.log(`Hello, my name is ${this.name}!`);\n",
    "  }\n",
    "}\n",
    "const person1 = new Person(\"Tasha\", 14);\n",
    "console.log(person1);\n",
    "person1.greet();\n",
    "\n",
    "// 2) Book class\n",
    "class Book {\n",
    "  constructor(title, author, pages) {\n",
    "    this.title = title;\n",
    "    this.author = author;\n",
    "    this.pages = pages;\n",
    "    this.pagesRead = 0;\n",
    "  }\n",
    "  read(pages) {\n",
    "    this.pagesRead += pages;\n",
    "    console.log(`You have read ${this.pagesRead} pages of '${this.title}'.`);\n",
    "  }\n",
    "  isLongBook() {\n",
    "    return this.pages > 300;\n",
    "  }\n",
    "}\n",
    "const book1 = new Book(\"The Great Gatsby\", \"F. Scott Fitzgerald\", 218);\n",
    "console.log(book1);\n",
    "book1.read(50);\n",
    "console.log(\"Is long book?\", book1.isLongBook());\n",
    "\n",
    "// 3) Car class\n",
    "class Car {\n",
    "  constructor(make, model, fuel) {\n",
    "    this.make = make;\n",
    "    this.model = model;\n",
    "    this.fuel = fuel;\n",
    "  }\n",
    "  drive(distance) {\n",
    "    this.fuel -= distance * 0.05;\n",
    "    console.log(`${this.make} ${this.model} drove ${distance} miles. Fuel left: ${this.fuel}`);\n",
    "  }\n",
    "  refuel(amount) {\n",
    "    this.fuel += amount;\n",
    "    console.log(`${this.make} ${this.model} refueled. Fuel now: ${this.fuel}`);\n",
    "  }\n",
    "  static info() {\n",
    "    console.log(\"Cars are vehicles.\");\n",
    "  }\n",
    "}\n",
    "Car.info();\n",
    "const car1 = new Car(\"Toyota\", \"Camry\", 10);\n",
    "car1.drive(50);\n",
    "car1.refuel(5);\n",
    "\n",
    "// 4) ElectricCar class\n",
    "class ElectricCar extends Car {\n",
    "  constructor(make, model, fuel, battery) {\n",
    "    super(make, model, fuel);\n",
    "    this.battery = battery;\n",
    "  }\n",
    "  charge(amount) {\n",
    "    this.battery += amount;\n",
    "    console.log(`${this.make} ${this.model} charged. Battery now: ${this.battery}`);\n",
    "  }\n",
    "}\n",
    "const tesla = new ElectricCar(\"Tesla\", \"Model 3\", 5, 50);\n",
    "tesla.charge(20);\n",
    "\n",
    "// 5) Routine\n",
    "console.log(\"--- Routine ---\");\n",
    "car1.drive(20);\n",
    "tesla.charge(10);\n",
    "book1.read(30);\n",
    "person1.greet();\n"
   ]
  }
 ],
 "metadata": {
  "kernelspec": {
   "display_name": "venv",
   "language": "python",
   "name": "python3"
  },
  "language_info": {
   "codemirror_mode": {
    "name": "ipython",
    "version": 3
   },
   "file_extension": ".py",
   "mimetype": "text/x-python",
   "name": "python",
   "nbconvert_exporter": "python",
   "pygments_lexer": "ipython3",
   "version": "3.12.3"
  }
 },
 "nbformat": 4,
 "nbformat_minor": 5
}
