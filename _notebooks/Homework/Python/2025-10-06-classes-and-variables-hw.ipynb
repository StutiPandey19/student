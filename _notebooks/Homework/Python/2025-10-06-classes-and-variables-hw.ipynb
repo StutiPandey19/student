{
 "cells": [
  {
   "cell_type": "code",
   "execution_count": null,
   "id": "55c3b1db",
   "metadata": {},
   "outputs": [],
   "source": [
    "---\n",
    "toc: True\n",
    "layout: post\n",
    "title: Classes and Variables \n",
    "description: Teaching Variables and Classes\n",
    "permalink: /csse/fall_2025/javascript/classes-and-variables\n",
    "---"
   ]
  },
  {
   "cell_type": "markdown",
   "id": "a8fc28d3",
   "metadata": {},
   "source": [
    "Definition And Explanation\n",
    "In coding, classes and variables are two very important things in your coding journey. A class is very similar to a blueprint; it defines what an object should do and how it should do it. For example, if you were to create a class named “Car”, that class isn’t just a car. It can have details like the color of the car, what brand the car is, the top speed of the car, and many more ideas. On the other hand, we have variables. These are used to store information. These can be numbers, words, or even objects created from classes. You can think of variables as of a container that holds a piece of data. When you combine these two, they both make your code more organized and easier to understand. Now, although they sound similar, they are actually different. A variable is just a single container that holds one piece of data you want. A class, on the other hand, is much bigger, as I said before, it’s just like a blueprint that can contain lots of variables and functions, but this time they are all grouped together. Instead of just holding one value like a variable, a class can describe a whole thing with multiple different variables. What this does is it makes your code a lot more organized, simple, convenient, and user-friendly.\n",
    "\n",
    "Example of Code that shows Variables from Snake.md.I will explain the code as we go on\n",
    "\n",
    "Heres the Entire code to look from"
   ]
  },
  {
   "cell_type": "code",
   "execution_count": null,
   "id": "f7c57598",
   "metadata": {},
   "outputs": [],
   "source": [
    "\n",
    "// Example: Only code related to variables and classes from the Snake game\n",
    "let score; // variable to keep track of the score\n",
    "score = 0; // initialize score\n",
    "let food = {x: 0, y: 0}; // object variable for food position\n",
    "food.x = Math.floor(Math.random() * ((canvas.width / BLOCK) - 1));\n",
    "food.y = Math.floor(Math.random() * ((canvas.height / BLOCK) - 1));\n",
    "// Example of a class (not in original Snake, but as an example)\n",
    "class Snake {\n",
    "    constructor() {\n",
    "        this.body = [{x: 0, y: 15}];   // starting position of snake\n",
    "        this.direction = 1;            // 1 = right\n",
    "        this.nextDirection = 1;        // planned next move\n",
    "    }\n",
    "}"
   ]
  },
  {
   "cell_type": "code",
   "execution_count": null,
   "id": "1d2c66c6",
   "metadata": {},
   "outputs": [],
   "source": [
    "\n",
    "let score;"
   ]
  },
  {
   "cell_type": "markdown",
   "id": "737c0c72",
   "metadata": {},
   "source": [
    "Why is this a variable?\n",
    "Let is used to declare a variable in JavaScript.\n",
    "\n",
    "Score is the variable’s name.\n",
    "\n",
    "At first, it has no value. Later in the game, it gets updated. When you start a new game, the code sets it to 0"
   ]
  },
  {
   "cell_type": "code",
   "execution_count": null,
   "id": "1a64128b",
   "metadata": {},
   "outputs": [],
   "source": [
    "score = 0;"
   ]
  },
  {
   "cell_type": "markdown",
   "id": "dc350887",
   "metadata": {},
   "source": [
    "And every time the snake eats food, it increases:"
   ]
  },
  {
   "cell_type": "code",
   "execution_count": null,
   "id": "8ffb8016",
   "metadata": {},
   "outputs": [],
   "source": [
    "altScore(++score);"
   ]
  },
  {
   "cell_type": "markdown",
   "id": "9c7d1a32",
   "metadata": {},
   "source": [
    "The score is a variable that keeps track of the player’s points while playing the game.\n",
    "\n",
    "Let's go over a Little Harder Example of Variables in Snake.md from your repo\n",
    "\n",
    "Let's start with the Var Food"
   ]
  },
  {
   "cell_type": "code",
   "execution_count": null,
   "id": "0da2573b",
   "metadata": {},
   "outputs": [],
   "source": [
    "let food = {x: 0, y: 0};"
   ]
  },
  {
   "cell_type": "markdown",
   "id": "6a1a6974",
   "metadata": {},
   "source": [
    "Why is this a “big” example?\n",
    "Instead of just storing one thing (like a number), food is an object variable\n",
    "It has two properties inside it, which are different from the one\n",
    "** X ** the horizontal position of the food on the game board\n",
    "** y ** the vertical position of the food on the game board.\n",
    "Randomly Made Spawns"
   ]
  },
  {
   "cell_type": "code",
   "execution_count": null,
   "id": "198aa4a2",
   "metadata": {},
   "outputs": [],
   "source": [
    "\n",
    "food.x = Math.floor(Math.random() * ((canvas.width / BLOCK) - 1));\n",
    "food.y = Math.floor(Math.random() * ((canvas.height / BLOCK) - 1));"
   ]
  },
  {
   "cell_type": "markdown",
   "id": "a7b7b0fc",
   "metadata": {},
   "source": [
    "Now its your job to try to find the rest and figure it out"
   ]
  },
  {
   "cell_type": "markdown",
   "id": "2724f436",
   "metadata": {},
   "source": [
    "Example Of Classes in Snake MD File\n",
    "\n",
    "Now, Classes aren't actually part of our Snake MD, so we made a small example of how it would look in the file"
   ]
  },
  {
   "cell_type": "code",
   "execution_count": null,
   "id": "82867a92",
   "metadata": {},
   "outputs": [],
   "source": [
    "class Snake {\n",
    "    constructor() {\n",
    "        this.body = [{x: 0, y: 15}];   // starting position of snake\n",
    "        this.direction = 1;            // 1 = right\n",
    "        this.nextDirection = 1;        // planned next move\n",
    "    }\n",
    "}"
   ]
  },
  {
   "cell_type": "markdown",
   "id": "aaa19c50",
   "metadata": {},
   "source": [
    "Explanation (in simple words)\n",
    "class Snake { ... } → This is the blueprint for the snake.\n",
    "\n",
    "constructor() → This special function runs when you create a new snake (new Snake()).\n",
    "\n",
    "this.body → Stores the snake’s body (as an array of blocks). At the start, it’s just one block at {x: 0, y: 15}.\n",
    "\n",
    "this.direction → Keeps track of which way the snake is currently moving. (1 = right).\n",
    "\n",
    "this.nextDirection → Stores the next direction the snake will move (helps with arrow key input)."
   ]
  },
  {
   "cell_type": "markdown",
   "id": "2c2b3ff9",
   "metadata": {},
   "source": [
    "POPCORN HACK 1 A short program about variables"
   ]
  },
  {
   "cell_type": "code",
   "execution_count": null,
   "id": "425060e3",
   "metadata": {},
   "outputs": [
    {
     "name": "stdout",
     "output_type": "stream",
     "text": [
      "Hi, my name is Sam\n",
      "I am 10 years old.\n",
      "Next year I will be 11 years old.\n"
     ]
    }
   ],
   "source": [
    "# Step 1: Make some variables\n",
    "name = \"Sam\"\n",
    "age = 10\n",
    "\n",
    "# Step 2: Print a message\n",
    "print(\"Hi, my name is\", name)\n",
    "print(\"I am\", age, \"years old.\")\n",
    "# Step 3: Unfinished part\n",
    "# TODO: Make a new variable called \"nextYearAge\"\n",
    "# that is the age plus 1\n",
    "nextYearAge = age + 1\n",
    "\n",
    "# TODO: Print out the result\n",
    "# Example: \"Next year I will be 11 years old.\"\n",
    "print(\"Next year I will be\", nextYearAge, \"years old.\")"
   ]
  },
  {
   "cell_type": "markdown",
   "id": "e9514ef8",
   "metadata": {},
   "source": [
    "POPCORN HACK 2 A short program about classes"
   ]
  },
  {
   "cell_type": "code",
   "execution_count": 6,
   "id": "b451223d",
   "metadata": {},
   "outputs": [
    {
     "name": "stdout",
     "output_type": "stream",
     "text": [
      "Dog says Woof!\n",
      "Buddy is a Dog and is very friendly!\n",
      "Cat says Meow!\n",
      "Mittens is a Cat and is very friendly!\n",
      "Parrot says Squawk!\n",
      "Polly is a Parrot and is very friendly!\n"
     ]
    }
   ],
   "source": [
    "# Step 1: Define the Animal class\n",
    "class Animal:\n",
    "    # Initialize each animal with a name, sound, and type\n",
    "    def __init__(self, name, sound, kind):\n",
    "        self.name = name\n",
    "        self.sound = sound\n",
    "        self.kind = kind\n",
    "\n",
    "    # Make the animal speak\n",
    "    def speak(self):\n",
    "        print(f\"{self.kind} says {self.sound}!\")\n",
    "\n",
    "    # Bonus method: describe the animal\n",
    "    def describe(self):\n",
    "        print(f\"{self.name} is a {self.kind} and is very friendly!\")\n",
    "\n",
    "# Step 2: Create a list to hold all the animals in the zoo\n",
    "zoo = []\n",
    "\n",
    "# Step 3: Add animals to the zoo\n",
    "# TODO: Create at least 3 animals and add them to the zoo list\n",
    "zoo.append(Animal(\"Buddy\", \"Woof\", \"Dog\"))\n",
    "zoo.append(Animal(\"Mittens\", \"Meow\", \"Cat\"))\n",
    "zoo.append(Animal(\"Polly\", \"Squawk\", \"Parrot\"))\n",
    "\n",
    "# Step 4: Loop through all animals and make them speak\n",
    "# TODO: Use a for loop to call speak() on each animal\n",
    "for animal in zoo:\n",
    "    animal.speak()\n",
    "    # Step 5: Optional bonus: Call describe() too\n",
    "    animal.describe()\n",
    "\n",
    "# Step 5 Bonus: Let the user add a new animal (works in notebook)\n",
    "# Uncomment to use in notebook\n",
    "# name = input(\"Enter the animal's name: \")\n",
    "# sound = input(\"Enter the sound it makes: \")\n",
    "# kind = input(\"Enter the kind of animal: \")\n",
    "# newAnimal = Animal(name, sound, kind)\n",
    "# zoo.append(newAnimal)\n",
    "# newAnimal.speak()\n",
    "# newAnimal.describe()"
   ]
  },
  {
   "cell_type": "markdown",
   "id": "0dafd9f3",
   "metadata": {},
   "source": [
    "Homework\n"
   ]
  },
  {
   "cell_type": "code",
   "execution_count": 4,
   "id": "d4b2616f",
   "metadata": {},
   "outputs": [
    {
     "name": "stdout",
     "output_type": "stream",
     "text": [
      "Computer chose: scissors\n",
      "You win!\n"
     ]
    }
   ],
   "source": [
    "# Step 1: Make a list of choices\n",
    "choices = [\"rock\", \"paper\", \"scissors\"]\n",
    "\n",
    "# Step 2: Ask the user for their choice (notebook version)\n",
    "user_choice = input(\"Choose rock, paper, or scissors: \").strip().lower()\n",
    "\n",
    "# Step 3: Computer picks a random choice\n",
    "import random\n",
    "computer_choice = random.choice(choices)\n",
    "print(\"Computer chose:\", computer_choice)\n",
    "\n",
    "# Step 4: Compare user_choice and computer_choice\n",
    "if user_choice == computer_choice:\n",
    "    print(\"It's a tie!\")\n",
    "elif user_choice == \"rock\" and computer_choice == \"scissors\":\n",
    "    print(\"You win!\")\n",
    "elif user_choice == \"scissors\" and computer_choice == \"paper\":\n",
    "    print(\"You win!\")\n",
    "elif user_choice == \"paper\" and computer_choice == \"rock\":\n",
    "    print(\"You win!\")\n",
    "else:\n",
    "    print(\"You lose!\")\n",
    "\n",
    "# Bonus: Put the whole game in a loop\n",
    "# Uncomment to play multiple rounds in notebook\n",
    "# while True:\n",
    "#     user_choice = input(\"Choose rock, paper, or scissors: \").strip().lower()\n",
    "#     computer_choice = random.choice(choices)\n",
    "#     print(\"Computer chose:\", computer_choice)\n",
    "#     if user_choice == computer_choice:\n",
    "#         print(\"It's a tie!\")\n",
    "#     elif user_choice == \"rock\" and computer_choice == \"scissors\":\n",
    "#         print(\"You win!\")\n",
    "#     elif user_choice == \"scissors\" and computer_choice == \"paper\":\n",
    "#         print(\"You win!\")\n",
    "#     elif user_choice == \"paper\" and computer_choice == \"rock\":\n",
    "#         print(\"You win!\")\n",
    "#     else:\n",
    "#         print(\"You lose!\")\n",
    "#     again = input(\"Play again? (y/n): \").strip().lower()\n",
    "#     if again != 'y':\n",
    "#         break"
   ]
  },
  {
   "cell_type": "markdown",
   "id": "a4f12aa2",
   "metadata": {},
   "source": [
    "\n",
    "Sumbmission!\n",
    "\n",
    "https://forms.gle/2aPP6CXFdQnNaE7GA"
   ]
  }
 ],
 "metadata": {
  "kernelspec": {
   "display_name": "venv",
   "language": "python",
   "name": "python3"
  },
  "language_info": {
   "codemirror_mode": {
    "name": "ipython",
    "version": 3
   },
   "file_extension": ".py",
   "mimetype": "text/x-python",
   "name": "python",
   "nbconvert_exporter": "python",
   "pygments_lexer": "ipython3",
   "version": "3.12.3"
  }
 },
 "nbformat": 4,
 "nbformat_minor": 5
}
