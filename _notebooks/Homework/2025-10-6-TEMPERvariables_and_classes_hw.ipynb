{
 "cells": [
  {
   "cell_type": "markdown",
   "id": "26dc2a70",
   "metadata": {},
   "source": [
    "---\n",
    "layout: post\n",
    "title: CSSE Classes and Variables\n",
    "description: Comprehensive homework exercises for JavaScript variables and classes in CSSE\n",
    "type: collab\n",
    "comments: true\n",
    "categories: [CSSE JavaScript Fundamentals]\n",
    "permalink: /csse/lessons/variables-classes/homework-oct\n",
    "courses: {'csse': {'week': 8}}\n",
    "---"
   ]
  },
  {
   "cell_type": "code",
   "execution_count": 4,
   "id": "5ec47b1a",
   "metadata": {
    "vscode": {
     "languageId": "javascript"
    }
   },
   "outputs": [
    {
     "name": "stdout",
     "output_type": "stream",
     "text": [
      "Computer chose: rock\n",
      "It's a tie!\n"
     ]
    }
   ],
   "source": [
    "import random\n",
    "\n",
    "# Step 1: Make a list of choices\n",
    "choices = [\"rock\", \"paper\", \"scissors\"]\n",
    "\n",
    "# Step 2: Ask the user for their choice (notebook uses input)\n",
    "user_choice = input(\"Choose rock, paper, or scissors: \").strip().lower()\n",
    "if not user_choice:\n",
    "    print(\"No choice entered.\")\n",
    "elif user_choice not in choices:\n",
    "    print(f\"Invalid choice: {user_choice}. Please enter rock, paper, or scissors.\")\n",
    "else:\n",
    "    # Step 3: Computer picks a random choice\n",
    "    computer_choice = random.choice(choices)\n",
    "    print(\"Computer chose:\", computer_choice)\n",
    "\n",
    "    # Step 4: Compare user_choice and computer_choice\n",
    "    if user_choice == computer_choice:\n",
    "        print(\"It's a tie!\")\n",
    "    elif (user_choice == \"rock\" and computer_choice == \"scissors\") or \\\n",
    "         (user_choice == \"scissors\" and computer_choice == \"paper\") or \\\n",
    "         (user_choice == \"paper\" and computer_choice == \"rock\"):\n",
    "        print(\"You win!\")\n",
    "    else:\n",
    "        print(\"You lose!\")\n",
    "\n",
    "# Bonus: Put the whole game in a loop (uncomment to use)\n",
    "# while True:\n",
    "#     user_choice = input(\"Choose rock, paper, or scissors: \").strip().lower()\n",
    "#     if not user_choice:\n",
    "#         print(\"No choice entered.\")\n",
    "#         continue\n",
    "#     if user_choice not in choices:\n",
    "#         print(\"Invalid choice. Try again.\")\n",
    "#         continue\n",
    "#     computer_choice = random.choice(choices)\n",
    "#     print(\"Computer chose:\", computer_choice)\n",
    "#     if user_choice == computer_choice:\n",
    "#         print(\"It's a tie!\")\n",
    "#     elif (user_choice == \"rock\" and computer_choice == \"scissors\") or \\\n",
    "#          (user_choice == \"scissors\" and computer_choice == \"paper\") or \\\n",
    "#          (user_choice == \"paper\" and computer_choice == \"rock\"):\n",
    "#         print(\"You win!\")\n",
    "#     else:\n",
    "#         print(\"You lose!\")\n",
    "#     again = input(\"Play again? (y/n): \").strip().lower()\n",
    "#     if again != 'y':\n",
    "#         break"
   ]
  }
 ],
 "metadata": {
  "kernelspec": {
   "display_name": "venv",
   "language": "python",
   "name": "python3"
  },
  "language_info": {
   "codemirror_mode": {
    "name": "ipython",
    "version": 3
   },
   "file_extension": ".py",
   "mimetype": "text/x-python",
   "name": "python",
   "nbconvert_exporter": "python",
   "pygments_lexer": "ipython3",
   "version": "3.12.3"
  }
 },
 "nbformat": 4,
 "nbformat_minor": 5
}
