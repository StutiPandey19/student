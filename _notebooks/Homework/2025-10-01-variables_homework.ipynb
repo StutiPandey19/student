{
 "cells": [
  {
   "cell_type": "markdown",
   "id": "5ae6591d",
   "metadata": {},
   "source": [
    "---\n",
    "layout: post\n",
    "title: CSSE Variables Homework\n",
    "description: Comprehensive homework exercises for JavaScript variables in CSSE\n",
    "type: collab\n",
    "comments: true\n",
    "categories: [CSSE JavaScript Fundamentals]\n",
    "permalink: /csse/lessons/variables/homework-oct\n",
    "courses: {'csse': {'week': 8}}\n",
    "---"
   ]
  },
  {
   "cell_type": "markdown",
   "id": "f6efae2e",
   "metadata": {},
   "source": [
    "# CSSE Variables Homework - Tasha Pandey\n",
    "\n",
    "My completed CSSE variables assignment which demonstrates JavaScript variables, data types, and operations."
   ]
  },
  {
   "cell_type": "markdown",
   "id": "4a0fc80b",
   "metadata": {},
   "source": [
    "## Popcorn Hack 1\n",
    "\n",
    "Below is the completed popcorn hack with all the required modifications:"
   ]
  },
  {
   "cell_type": "code",
   "execution_count": 1,
   "id": "e0ff4cfe",
   "metadata": {},
   "outputs": [
    {
     "data": {
      "text/html": [
       "\n",
       "<h2>Popcorn Hack 1 Output</h2>\n",
       "<div id=\"output1\"></div>\n",
       "<div id=\"error-demo\"></div>\n",
       "\n",
       "<script>\n",
       "(() => {\n",
       "\n",
       "  let name = \"Tasha Pandey\";\n",
       "  const age = 14;\n",
       "\n",
       "  // In practice, you shouldn't use var. This is just for the purposes of teaching :)\n",
       "  var city = \"San Diego\"; \n",
       "\n",
       "  // Change vars here\n",
       "  name = \"Tasha Pandey\"; \n",
       "  // age = 2; // What happens if you uncomment this line ???\n",
       "\n",
       "// Other variables\n",
       "hobby = \"dancing!\"\n",
       "city = \"San Diego\";  \n",
       "\n",
       "document.getElementById(\"output1\").innerText = name + \" is \" + age + \" years old, lives in \" + city + \", and love love loves \"+ hobby + \"!!!\";\n",
       "\n",
       "})();\n",
       "</script>\n"
      ],
      "text/plain": [
       "<IPython.core.display.HTML object>"
      ]
     },
     "metadata": {},
     "output_type": "display_data"
    }
   ],
   "source": [
    "%%html\n",
    "\n",
    "<h2>Popcorn Hack 1 Output</h2>\n",
    "<div id=\"output1\"></div>\n",
    "<div id=\"error-demo\"></div>\n",
    "\n",
    "<script>\n",
    "(() => {\n",
    "\n",
    "  let name = \"Tasha Pandey\";\n",
    "  const age = 14;\n",
    "\n",
    "  // In practice, you shouldn't use var. This is just for the purposes of teaching :)\n",
    "  var city = \"San Diego\"; \n",
    "\n",
    "  // Change vars here\n",
    "  name = \"Tasha Pandey\"; \n",
    "  // age = 2; // What happens if you uncomment this line ???\n",
    "\n",
    "// Other variables\n",
    "hobby = \"dancing!\"\n",
    "city = \"San Diego\";  \n",
    "\n",
    "document.getElementById(\"output1\").innerText = name + \" is \" + age + \" years old, lives in \" + city + \", and love love loves \"+ hobby + \"!!!\";\n",
    "\n",
    "})();\n",
    "</script>"
   ]
  },
  {
   "cell_type": "code",
   "execution_count": 8,
   "id": "3a0ce9f2",
   "metadata": {},
   "outputs": [
    {
     "data": {
      "text/html": [
       "\n",
       "<p>Click the button after entering your magic number!</p>\n",
       "\n",
       "<input type=\"number\" id=\"magicInput\" placeholder=\"Enter magic number\">\n",
       "<button id=\"magicButton\">Calculate</button>\n",
       "\n",
       "<div id=\"output2\">Your results will appear here.</div>\n",
       "\n",
       "<script>\n",
       "  (() => {\n",
       "\n",
       "  const button = document.getElementById(\"magicButton\");\n",
       "  const input = document.getElementById(\"magicInput\");\n",
       "  const output = document.getElementById(\"output2\");\n",
       "\n",
       "  button.addEventListener(\"click\", () => {\n",
       "\n",
       "    // ^^ DO NOT MODIFY ANY ABOVE CODE ^^\n",
       "\n",
       "    // Set the Magic Number variable to input.value\n",
       "    let magicNumber = input.value;\n",
       "\n",
       "    // Convert the input to a number using Number()\n",
       "    magicNumber = Number(magicNumber);\n",
       "\n",
       "    // Calculate doubled, squared, and tripled\n",
       "    let doubled = magicNumber * 2;\n",
       "    let squared = magicNumber * magicNumber;\n",
       "    let tripled = magicNumber * 3;\n",
       "\n",
       "    // Display results in the DOM and console\n",
       "    output.innerText = `Magic Number: ${magicNumber}, Doubled: ${doubled}, Squared: ${squared}, Tripled: ${tripled}`;\n",
       "    console.log(`Magic Number: ${magicNumber}, Doubled: ${doubled}, Squared: ${squared}, Tripled: ${tripled}`);\n",
       "\n",
       "  // vv DO NOT MODIFY ANY BELOW CODE vv\n",
       "  });\n",
       "\n",
       "})();\n",
       "\n",
       "</script>\n"
      ],
      "text/plain": [
       "<IPython.core.display.HTML object>"
      ]
     },
     "metadata": {},
     "output_type": "display_data"
    }
   ],
   "source": [
    "%%html\n",
    "\n",
    "<p>Click the button after entering your magic number!</p>\n",
    "\n",
    "<input type=\"number\" id=\"magicInput\" placeholder=\"Enter magic number\">\n",
    "<button id=\"magicButton\">Calculate</button>\n",
    "\n",
    "<div id=\"output2\">Your results will appear here.</div>\n",
    "\n",
    "<script>\n",
    "  (() => {\n",
    "\n",
    "  const button = document.getElementById(\"magicButton\");\n",
    "  const input = document.getElementById(\"magicInput\");\n",
    "  const output = document.getElementById(\"output2\");\n",
    "\n",
    "  button.addEventListener(\"click\", () => {\n",
    "\n",
    "    // ^^ DO NOT MODIFY ANY ABOVE CODE ^^\n",
    "\n",
    "    // Set the Magic Number variable to input.value\n",
    "    let magicNumber = input.value;\n",
    "\n",
    "    // Convert the input to a number using Number()\n",
    "    magicNumber = Number(magicNumber);\n",
    "\n",
    "    // Calculate doubled, squared, and tripled\n",
    "    let doubled = magicNumber * 2;\n",
    "    let squared = magicNumber * magicNumber;\n",
    "    let tripled = magicNumber * 3;\n",
    "\n",
    "    // Display results in the DOM and console\n",
    "    output.innerText = `Magic Number: ${magicNumber}, Doubled: ${doubled}, Squared: ${squared}, Tripled: ${tripled}`;\n",
    "    console.log(`Magic Number: ${magicNumber}, Doubled: ${doubled}, Squared: ${squared}, Tripled: ${tripled}`);\n",
    "\n",
    "  // vv DO NOT MODIFY ANY BELOW CODE vv\n",
    "  });\n",
    "\n",
    "})();\n",
    "\n",
    "</script>"
   ]
  },
  {
   "cell_type": "markdown",
   "id": "a5fe89c2",
   "metadata": {},
   "source": [
    "## Popcorn Hack 2\n",
    "\n",
    "Follow the below instructions to complete this interactive magic number calculator:"
   ]
  },
  {
   "cell_type": "code",
   "execution_count": null,
   "id": "c4c2b891",
   "metadata": {},
   "outputs": [
    {
     "data": {
      "text/html": [
       "\n",
       "<p>Click the button after entering your magic number!</p>\n",
       "\n",
       "<input type=\"number\" id=\"magicInput\" placeholder=\"Enter magic number\">\n",
       "<button id=\"magicButton\">Calculate</button>\n",
       "\n",
       "<div id=\"output2\">Your results will appear here.</div>\n",
       "\n",
       "<script>\n",
       "  (() => {\n",
       "\n",
       "  const button = document.getElementById(\"magicButton\");\n",
       "  const input = document.getElementById(\"magicInput\");\n",
       "  const output = document.getElementById(\"output2\");\n",
       "\n",
       "  button.addEventListener(\"click\", () => {\n",
       "\n",
       "    // ^^ DO NOT MODIFY ANY ABOVE CODE ^^\n",
       "\n",
       "    // Set the Magic Number variable to input.value\n",
       "\n",
       "    let  magicNumber = input.value;\n",
       "\n",
       "    // Convert the input to a number using Number()\n",
       "\n",
       "    // Calculate doubled, squared, and tripled\n",
       "\n",
       "    magicNumber = Number(magicNumber);\n",
       "\n",
       "    let doubled = magicNumber * 2;\n",
       "    let squared = magicNumber * magicNumber;\n",
       "    let tripled = magicNumber * 3;\n",
       "\n",
       "    // Calculate doubled, squared, and tripled\n",
       "\n",
       "    // Display results in the DOM and console\n",
       "    output.innerText = `Magic Number: ${magicNumber}, Doubled: ${doubled}, Squared: ${squared}, Tripled: ${tripled}`;\n",
       "    console.log(`Magic Number: ${magicNumber}, Doubled: ${doubled}, Squared: ${squared}, Tripled: ${tripled}`);\n",
       "\n",
       "  // vv DO NOT MODIFY ANY BELOW CODE vv\n",
       "  });\n",
       "\n",
       "})();\n",
       "\n",
       "</script>\n"
      ],
      "text/plain": [
       "<IPython.core.display.HTML object>"
      ]
     },
     "metadata": {},
     "output_type": "display_data"
    }
   ],
   "source": [
    "\n",
    "%%html\n",
    "\n",
    "<p>Click the button after entering your magic number!</p>\n",
    "\n",
    "<input type=\"number\" id=\"magicInput\" placeholder=\"Enter magic number\">\n",
    "<button id=\"magicButton\">Calculate</button>\n",
    "\n",
    "<div id=\"output2\">Your results will appear here.</div>\n",
    "\n",
    "<script>\n",
    "  (() => {\n",
    "\n",
    "  const button = document.getElementById(\"magicButton\");\n",
    "  const input = document.getElementById(\"magicInput\");\n",
    "  const output = document.getElementById(\"output2\");\n",
    "\n",
    "  button.addEventListener(\"click\", () => {\n",
    "\n",
    "    // ^^ DO NOT MODIFY ANY ABOVE CODE ^^\n",
    "\n",
    "    // Set the Magic Number variable to input.value\n",
    "\n",
    "    let  magicNumber = input.value;\n",
    "\n",
    "    // Convert the input to a number using Number()\n",
    "\n",
    "    // Calculate doubled, squared, and tripled\n",
    "\n",
    "    magicNumber = Number(magicNumber);\n",
    "\n",
    "    let doubled = magicNumber * 2;\n",
    "    let squared = magicNumber * magicNumber;\n",
    "    let tripled = magicNumber * 3;\n",
    "\n",
    "    // Calculate doubled, squared, and tripled\n",
    "\n",
    "    // Display results in the DOM and console\n",
    "    \n",
    "    output.innerText = `Magic Number: ${magicNumber}, Doubled: ${doubled}, Squared: ${squared}, Tripled: ${tripled}`;\n",
    "    console.log(`Magic Number: ${magicNumber}, Doubled: ${doubled}, Squared: ${squared}, Tripled: ${tripled}`);\n",
    "\n",
    "  // vv DO NOT MODIFY ANY BELOW CODE vv\n",
    "  });\n",
    "\n",
    "})();\n",
    "\n",
    "</script>"
   ]
  },
  {
   "cell_type": "code",
   "execution_count": 12,
   "id": "012bcd86",
   "metadata": {},
   "outputs": [
    {
     "data": {
      "text/html": [
       "\n",
       "<html>\n",
       "\n",
       "<body>\n",
       "  <h2>Homework Output</h2>\n",
       "  <div id=\"output\"></div>\n",
       "\n",
       "  <script>\n",
       "    document.getElementById(\"output\").innerText = \"\"; // Clear output\n",
       "    (() => {\n",
       "\n",
       "// Write your JS code over here!!\n",
       "\n",
       "      const name = \"Tasha Pandey\";\n",
       "      const age' = \"14\"; \n",
       "      const city = \"Sand Diego (Rancho Bernardo)\"\n",
       "      const hobby = \"dancing\"\n",
       "      const IsStudent = true;\n",
       "\n",
       "      console.log(sentence);\n",
       "      const sentence = \"I am currently\" + \"age\" + \"years old\" + \"and, I live in\" + \"city\" + \"and my hobby is\" + \"hobby\" + \".\"\n",
       "\n"
      ],
      "text/plain": [
       "<IPython.core.display.HTML object>"
      ]
     },
     "metadata": {},
     "output_type": "display_data"
    }
   ],
   "source": [
    "%%html\n",
    "\n",
    "<html>\n",
    "\n",
    "<body>\n",
    "  <h2>Homework Output</h2>\n",
    "  <div id=\"output\"></div>\n",
    "\n",
    "  <script>\n",
    "    document.getElementById(\"output\").innerText = \"\"; // Clear output\n",
    "    (() => {\n",
    "\n",
    "// Write your JS code over here!!\n",
    "      \n",
    "      const name = \"Tasha Pandey\";\n",
    "      const age' = \"14\"; \n",
    "      const city = \"Sand Diego (Rancho Bernardo)\"\n",
    "      const hobby = \"dancing\"\n",
    "      const IsStudent = true;\n",
    "\n",
    "      console.log(sentence);\n",
    "      const sentence = \"I am currently\" + \"age\" + \"years old\" + \"and, I live in\" + \"city\" + \"and my hobby is\" + \"hobby\" + \".\"\n",
    "\n"
   ]
  }
 ],
 "metadata": {
  "kernelspec": {
   "display_name": "venv",
   "language": "python",
   "name": "python3"
  },
  "language_info": {
   "codemirror_mode": {
    "name": "ipython",
    "version": 3
   },
   "file_extension": ".py",
   "mimetype": "text/x-python",
   "name": "python",
   "nbconvert_exporter": "python",
   "pygments_lexer": "ipython3",
   "version": "3.12.3"
  }
 },
 "nbformat": 4,
 "nbformat_minor": 5
}
